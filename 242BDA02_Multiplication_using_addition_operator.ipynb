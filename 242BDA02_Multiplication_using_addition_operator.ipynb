{
 "cells": [
  {
   "cell_type": "code",
   "execution_count": null,
   "metadata": {},
   "outputs": [],
   "source": [
    "\"\"\"\n",
    "Multiplication using addition operator\n",
    "Author: Muhammed Nishad\n",
    "Date: 14-09-2024\n",
    "\"\"\"\n",
    "\n",
    "#Define a class Multiplier to perform multiplication operation\n",
    "class Multiplier:\n",
    "\n",
    "    #Initializing the Multiplier class with two variables x and y to store values\n",
    "    def __init__(self, x, y):\n",
    "        self.x = x\n",
    "        self.y = y\n",
    "    \n",
    "    #Multiplies x and y using repeated addition\n",
    "    def multiply(self):\n",
    "        result = 0\n",
    "        for idx in range(abs(self.y)):\n",
    "            result += abs(self.x)\n",
    "        if (self.x < 0 and self.y > 0) or (self.x > 0 and self.y < 0):\n",
    "            result *= -1\n",
    "        return result\n",
    "\n",
    "#Getting numbers from the user\n",
    "num1 = int(input(\"Enter the first number: \"))\n",
    "num2 = int(input(\"Enter the second number: \"))\n",
    "\n",
    "#Creating an instance of Multiplier class\n",
    "multiplier = Multiplier(num1,num2)\n",
    "\n",
    "#Calling multiply method\n",
    "product = multiplier.multiply()\n",
    "\n",
    "#Printing the final product result\n",
    "print(f\"Product of {num1} and {num2} is {product}\")"
   ]
  }
 ],
 "metadata": {
  "language_info": {
   "name": "python"
  }
 },
 "nbformat": 4,
 "nbformat_minor": 2
}
