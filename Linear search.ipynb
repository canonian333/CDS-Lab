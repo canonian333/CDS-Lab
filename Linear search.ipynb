{
 "cells": [
  {
   "cell_type": "code",
   "execution_count": 13,
   "metadata": {},
   "outputs": [
    {
     "name": "stdout",
     "output_type": "stream",
     "text": [
      "Element 2 found at index 1\n"
     ]
    }
   ],
   "source": [
    "def find_element(element, list):\n",
    "    for i in range(len(list)):\n",
    "        if element == list[i]:\n",
    "            return f\"Element {element} found at index {i}\"\n",
    "        else:\n",
    "            continue\n",
    "    return \"element not found\"\n",
    "\n",
    "def main():\n",
    "    list = [1, 2, 3, 4, 5]\n",
    "    element = \n",
    "    print(find_element(element, list))\n",
    "\n",
    "main()\n"
   ]
  },
  {
   "cell_type": "code",
   "execution_count": 16,
   "metadata": {},
   "outputs": [
    {
     "name": "stdout",
     "output_type": "stream",
     "text": [
      "Element 8 found at index 4\n"
     ]
    }
   ],
   "source": [
    "'''\n",
    "Algorithm no.1\n",
    "Algorithm Name: Linear Search\n",
    "Author: Muhammed Nishad\n",
    "'''\n",
    " \n",
    "#Defining function named find element for linear search and it has two parameters \"element\" and \"list\"\n",
    "def find_element(element, list):\n",
    "    '''\n",
    "    searches the value stored in the list\n",
    "    1.element:accepting the element to be searched from the user\n",
    "    2.list is list where the element need to be searched from\n",
    "    '''\n",
    "    #Iterating the indices of the input list using a for loop\n",
    "    for i in range(len(list)):\n",
    "        #checking the current element in list equals the target element\n",
    "        if element == list[i]:\n",
    "            #if the current element equals the target element, returns the element and its index position\n",
    "            return f\"Element {element} found at index {i}\"\n",
    "        #if the element not in the current index\n",
    "        else:\n",
    "            continue\n",
    "    #if the targeted element is not in the current list\n",
    "    return \"element not found\"\n",
    "\n",
    "def main():\n",
    "    #creating list for the search\n",
    "    list=[1,5,4,6,8,7]\n",
    "    #accepting the element to be searched from the  user\n",
    "    element=int(input(\"Enter the element is to be searched\"))\n",
    "    #calling the find element function\n",
    "    print(find_element(element, list))\n",
    "#calling the main function\n",
    "main()\n",
    "\n"
   ]
  },
  {
   "cell_type": "code",
   "execution_count": null,
   "metadata": {},
   "outputs": [],
   "source": []
  }
 ],
 "metadata": {
  "kernelspec": {
   "display_name": "base",
   "language": "python",
   "name": "python3"
  },
  "language_info": {
   "codemirror_mode": {
    "name": "ipython",
    "version": 3
   },
   "file_extension": ".py",
   "mimetype": "text/x-python",
   "name": "python",
   "nbconvert_exporter": "python",
   "pygments_lexer": "ipython3",
   "version": "3.9.13"
  }
 },
 "nbformat": 4,
 "nbformat_minor": 2
}
